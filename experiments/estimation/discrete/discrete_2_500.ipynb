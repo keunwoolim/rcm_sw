{
 "cells": [
  {
   "cell_type": "code",
   "execution_count": 5,
   "metadata": {
    "id": "VnxVqr_cluy_"
   },
   "outputs": [],
   "source": [
    "import numpy as np\n",
    "from scipy.stats import uniform_direction\n",
    "import matplotlib.pyplot as plt\n",
    "import ot\n",
    "import cvxpy as cp\n",
    "import time\n",
    "import os"
   ]
  },
  {
   "cell_type": "code",
   "execution_count": 6,
   "metadata": {
    "id": "Ae2utf30luzB"
   },
   "outputs": [],
   "source": [
    "class minimum_distance_estimator:\n",
    "\n",
    "    def __init__(self, dimension, radius, covariate_samples, dependent_samples):\n",
    "\n",
    "        self.dimension = dimension\n",
    "        self.radius = radius\n",
    "        self.covariate_samples = covariate_samples\n",
    "        self.dependent_samples = dependent_samples\n",
    "\n",
    "        self.sample_size, _ = np.shape(covariate_samples.T)\n",
    "        self.NN_parameter = int(np.ceil(self.sample_size ** (self.dimension / (2 * self.dimension - 1))))\n",
    "\n",
    "\n",
    "    #Main block coordinate descent algorithm\n",
    "    def block_coordinate_descent(self, iteration, unit_sample_size):\n",
    "\n",
    "        unit_vector_samples, projected_NN_samples = self.NN_projection(unit_sample_size)\n",
    "        \n",
    "        descent_vector = self.initialize_vector()\n",
    "        \n",
    "        for iter in range(iteration):\n",
    "            descent_vector = self.convex_iteration(descent_vector, projected_NN_samples, unit_vector_samples)\n",
    "            \n",
    "        return descent_vector\n",
    "\n",
    "\n",
    "    #Main approximate block coordinate descent algorithm\n",
    "    def approximate_block_coordinate_descent(self, iteration, unit_sample_size):\n",
    "\n",
    "        unit_vector_samples, projected_NN_samples = self.NN_projection(unit_sample_size)\n",
    "        \n",
    "        descent_vector = self.initialize_vector()\n",
    "        \n",
    "        for iter in range(iteration):\n",
    "            descent_vector = self.objective_vector(descent_vector, projected_NN_samples, unit_vector_samples) * self.dimension / unit_sample_size\n",
    "            descent_vector = self.vector_projection(descent_vector)\n",
    "\n",
    "        return descent_vector\n",
    "\n",
    "\n",
    "    #Computation of projected sample values\n",
    "    def NN_projection(self, unit_sample_size):\n",
    "\n",
    "        unit_vector_samples = uniform_direction.rvs(dim = self.dimension, size = unit_sample_size).T\n",
    "        projected_NN_samples = np.zeros((self.NN_parameter, unit_sample_size))\n",
    "    \n",
    "        for iter in range(unit_sample_size):\n",
    "            \n",
    "            unit_vector = unit_vector_samples[:, iter].reshape(-1, 1)\n",
    "\n",
    "            projected_covariates = unit_vector.T @ self.covariate_samples\n",
    "            NN_covariates_index =  np.argsort(projected_covariates)[0, -self.NN_parameter:]\n",
    "            projected_NN_samples[:, iter] =  np.sort((np.diag(self.dependent_samples[NN_covariates_index]) @ self.covariate_samples[:, NN_covariates_index].T @ unit_vector).reshape((-1, )))\n",
    "        \n",
    "        return unit_vector_samples, projected_NN_samples\n",
    "\n",
    "    #Computation of initial vector\n",
    "    def initialize_vector(self):\n",
    "        initial_vector = uniform_direction.rvs(dim = self.dimension, size = self.NN_parameter).T  * self.radius \n",
    "        initial_vector = initial_vector @ (np.diag(np.random.uniform(size = self.NN_parameter) ** (1 / self.dimension)))\n",
    "        return initial_vector\n",
    "\n",
    "\n",
    "    #Computation of vector for minimization of objective \n",
    "    def objective_vector(self, descent_vector, projected_NN_samples, unit_vector_samples):\n",
    "        \n",
    "        unit_sample_size = np.shape(unit_vector_samples)[1]\n",
    "        return_vector = np.zeros((self.dimension, self.NN_parameter))\n",
    "\n",
    "        for unit_iter in range(unit_sample_size):\n",
    "\n",
    "            descent_sorted_index = np.argsort(unit_vector_samples[:, unit_iter].T @ descent_vector)\n",
    "            \n",
    "            for return_iter in range(self.NN_parameter):\n",
    "                index = descent_sorted_index[return_iter]\n",
    "                return_vector[:, index] += projected_NN_samples[return_iter , unit_iter] * unit_vector_samples[:, unit_iter]\n",
    "        return return_vector\n",
    "\n",
    "\n",
    "    #Iteration based on the convex optimization solution of the objective function for original algorithm\n",
    "    def convex_iteration(self, descent_vector, projected_NN_samples, unit_vector_samples):\n",
    "        \n",
    "        unit_sample_size = np.shape(unit_vector_samples)[1]\n",
    "\n",
    "        unit_sample_matrix = np.zeros((self.dimension, self.dimension))\n",
    "        for iter in range (unit_sample_size):\n",
    "            unit_sample = unit_vector_samples[:, iter].reshape((self.dimension, 1))       \n",
    "            unit_sample_matrix += unit_sample @ unit_sample.T\n",
    "        unit_sample_matrix = np.linalg.inv(unit_sample_matrix)\n",
    "\n",
    "        objective_vector = self.objective_vector(descent_vector, projected_NN_samples, unit_vector_samples)\n",
    "        product_objective_vector = unit_sample_matrix @ objective_vector\n",
    "\n",
    "        return_vector = np.zeros((self.dimension, self.NN_parameter))\n",
    "\n",
    "        for iter in range(self.NN_parameter):\n",
    "            \n",
    "            return_column_vector = cp.Variable((self.dimension, 1))\n",
    "            set_constraints = [cp.norm(return_column_vector, 2) <= self.radius]\n",
    "\n",
    "            convex_function = cp.matrix_frac(return_column_vector - product_objective_vector[:, iter].reshape((self.dimension, 1)),  unit_sample_matrix)\n",
    "            convex_objective = cp.Minimize(convex_function)\n",
    "\n",
    "            problem = cp.Problem(objective = convex_objective, constraints = set_constraints)\n",
    "            problem.solve(solver = cp.SCS)\n",
    "            return_vector[:, iter] = return_column_vector.value.reshape(self.dimension, )\n",
    "            \n",
    "        return return_vector\n",
    "\n",
    "\n",
    "    #Projection of vector in the approximate algorithm\n",
    "    def vector_projection(self, descent_vector):\n",
    "\n",
    "        projected_vector = np.zeros((self.dimension, self.NN_parameter))\n",
    "        for iter in range (self.NN_parameter):\n",
    "            if np.linalg.norm(descent_vector[:, iter]) > self.radius:\n",
    "                projected_vector[:, iter] = descent_vector[:, iter] / np.linalg.norm(descent_vector[:, iter]) * self.radius               \n",
    "            else: \n",
    "                projected_vector[:, iter] = descent_vector[:, iter]\n",
    "        \n",
    "        return projected_vector\n"
   ]
  },
  {
   "cell_type": "code",
   "execution_count": 7,
   "metadata": {
    "colab": {
     "base_uri": "https://localhost:8080/",
     "height": 953
    },
    "id": "b7QuxkTLluzC",
    "outputId": "ca7fc822-b41c-4a47-88aa-d014e5fb7295"
   },
   "outputs": [
    {
     "data": {
      "image/png": "[encoded data removed]",
      "text/plain": [
       "<Figure size 640x480 with 1 Axes>"
      ]
     },
     "metadata": {},
     "output_type": "display_data"
    }
   ],
   "source": [
    "covariate_samples = np.load(os.getcwd() + \"\\\\covariate_samples\\\\discrete_covariate_samples_2_500.npy\")\n",
    "coefficient_samples = np.load(os.getcwd() + \"\\\\coefficient_samples\\\\discrete_coefficient_samples_2_500.npy\")\n",
    "dependent_samples = np.load(os.getcwd() + \"\\\\dependent_samples\\\\discrete_dependent_samples_2_500.npy\")\n",
    "plt.plot(coefficient_samples[0,:], coefficient_samples[1,:], 'o')\n",
    "plt.xlim(-10, 10)\n",
    "plt.ylim(-10, 10)\n",
    "plt.show()"
   ]
  },
  {
   "cell_type": "code",
   "execution_count": 8,
   "metadata": {},
   "outputs": [
    {
     "name": "stdout",
     "output_type": "stream",
     "text": [
      "0\n",
      "10\n",
      "20\n",
      "30\n",
      "40\n",
      "50\n",
      "60\n",
      "70\n",
      "80\n",
      "90\n",
      "1.9840917587280273\n",
      "0.8874220277935098\n"
     ]
    },
    {
     "data": {
      "image/png": "[encoded data removed]",
      "text/plain": [
       "<Figure size 640x480 with 1 Axes>"
      ]
     },
     "metadata": {},
     "output_type": "display_data"
    }
   ],
   "source": [
    "estimator = minimum_distance_estimator(2, 10, covariate_samples, dependent_samples)\n",
    "\n",
    "iteration = 100\n",
    "estimation_array = np.zeros((estimator.dimension * iteration, estimator.NN_parameter))\n",
    "time_array = np.zeros(iteration)\n",
    "distance_array = np.zeros(iteration)\n",
    "\n",
    "for iter in range(iteration):\n",
    "    if iter % 10 == 0:\n",
    "        print(iter)\n",
    "    time_start = time.time()\n",
    "    estimation = estimator.approximate_block_coordinate_descent(20, 1000)\n",
    "    time_end = time.time()\n",
    "    duration = time_end - time_start\n",
    "    \n",
    "    estimation_array[estimator.dimension * iter : estimator.dimension * (iter + 1), : ] = estimation\n",
    "    time_array[iter] = duration\n",
    "    distance_array[iter] = ot.sliced.sliced_wasserstein_distance(estimation.T, coefficient_samples.T, n_projections= 100, p = 2)\n",
    "\n",
    "np.save(os.getcwd() + \"\\\\estimation_data\\\\approximate_estimation_discrete_2_500\", estimation_array)\n",
    "np.save(os.getcwd() + \"\\\\time_data\\\\approximate_time_discrete_2_500\", time_array)\n",
    "np.save(os.getcwd() + \"\\\\distance_data\\\\approximate_distance_discrete_2_500\", distance_array)\n",
    "\n",
    "print(time_array[-1])\n",
    "print(distance_array[-1])\n",
    "plt.plot(estimation_array[-2, :], estimation_array[-1, :], 'o')\n",
    "plt.xlim(-10, 10)\n",
    "plt.ylim(-10, 10)\n",
    "plt.show()"
   ]
  }
 ],
 "metadata": {
  "colab": {
   "provenance": []
  },
  "kernelspec": {
   "display_name": "Python 3",
   "language": "python",
   "name": "python3"
  },
  "language_info": {
   "codemirror_mode": {
    "name": "ipython",
    "version": 3
   },
   "file_extension": ".py",
   "mimetype": "text/x-python",
   "name": "python",
   "nbconvert_exporter": "python",
   "pygments_lexer": "ipython3",
   "version": "3.11.9"
  }
 },
 "nbformat": 4,
 "nbformat_minor": 4
}
