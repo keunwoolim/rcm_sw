{
 "cells": [
  {
   "cell_type": "code",
   "execution_count": 1,
   "metadata": {
    "id": "VnxVqr_cluy_"
   },
   "outputs": [],
   "source": [
    "import numpy as np\n",
    "from scipy.stats import uniform_direction\n",
    "import matplotlib.pyplot as plt\n",
    "import ot\n",
    "import cvxpy as cp\n",
    "import time\n",
    "import os"
   ]
  },
  {
   "cell_type": "code",
   "execution_count": 2,
   "metadata": {},
   "outputs": [],
   "source": [
    "class generative_model:\n",
    "\n",
    "    def __init__(self, dimension, radius, covariate_samples, dependent_samples):\n",
    "\n",
    "        self.dimension = dimension\n",
    "        self.radius = radius\n",
    "        self.covariate_samples = covariate_samples\n",
    "        self.dependent_samples = dependent_samples\n",
    "\n",
    "        self.sample_size, _ = np.shape(covariate_samples.T)\n",
    "        self.NN_parameter = int(np.ceil(self.sample_size ** (self.dimension / (2 * self.dimension - 1))))\n",
    "\n",
    "\n",
    "    #Main generative algorithm\n",
    "    def generative_algorithm(self, iteration, unit_sample_size, N_particles, step_size, reg_parameter):\n",
    "        \n",
    "        unit_vector_samples, projected_NN_samples = self.NN_projection(unit_sample_size)\n",
    "\n",
    "        flow_vector = self.initialize_vector(N_particles)\n",
    "\n",
    "        for iter in range (iteration):\n",
    "            \n",
    "            iteration_vector = np.zeros((self.dimension, N_particles))\n",
    "            \n",
    "            for particle_index in range(N_particles):\n",
    "                projected_particle_samples = self.projected_particle_samples(flow_vector, unit_vector_samples, unit_sample_size, N_particles)\n",
    "                particle_drift = self.particle_drift(flow_vector[:, particle_index], unit_vector_samples, projected_NN_samples, projected_particle_samples, unit_sample_size, N_particles)\n",
    "                iteration_vector[:, particle_index] = step_size * particle_drift.reshape((-1)) + np.sqrt(2 * reg_parameter * step_size) * np.random.multivariate_normal(np.zeros(self.dimension), np.identity(self.dimension))\n",
    "            \n",
    "            flow_vector += iteration_vector\n",
    "        \n",
    "        return flow_vector\n",
    "\n",
    "\n",
    "    #Computation of projected nearest neighborhood sample values\n",
    "    def NN_projection(self, unit_sample_size):\n",
    "\n",
    "        unit_vector_samples = uniform_direction.rvs(dim = self.dimension, size = unit_sample_size).T\n",
    "        projected_NN_samples = np.zeros((self.NN_parameter, unit_sample_size))\n",
    "    \n",
    "        for iter in range(unit_sample_size):\n",
    "            \n",
    "            unit_vector = unit_vector_samples[:, iter].reshape(-1, 1)\n",
    "\n",
    "            projected_covariates = unit_vector.T @ self.covariate_samples\n",
    "            NN_covariates_index =  np.argsort(projected_covariates)[0, -self.NN_parameter:]\n",
    "            projected_NN_samples[:, iter] =  np.sort((np.diag(self.dependent_samples[NN_covariates_index]) @ self.covariate_samples[:, NN_covariates_index].T @ unit_vector).reshape((-1, )))\n",
    "        \n",
    "        return unit_vector_samples, projected_NN_samples\n",
    "\n",
    "\n",
    "    #Computation of initial particle vector\n",
    "    def initialize_vector(self, N_particles):\n",
    "    \n",
    "        initial_vector = uniform_direction.rvs(dim = self.dimension, size = N_particles).T  * self.radius \n",
    "        initial_vector = initial_vector @ (np.diag(np.random.uniform(size = N_particles) ** (1 / self.dimension)))\n",
    "\n",
    "        return initial_vector\n",
    "    \n",
    "\n",
    "    #Computation of drift\n",
    "    def particle_drift(self, particle_vector, unit_vector_samples, projected_NN_samples, projected_particle_samples, unit_sample_size, N_particles):\n",
    "        \n",
    "        drift_sum = np.zeros((self.dimension, 1))\n",
    "\n",
    "        for unit_vector_index in range(unit_sample_size):\n",
    "            projected_particle_value = np.inner(unit_vector_samples[:, unit_vector_index], particle_vector)\n",
    "            optimal_map = self.empirical_quantile(self.empirical_cdf(projected_particle_value, projected_particle_samples, N_particles, unit_vector_index), projected_NN_samples, unit_vector_index)\n",
    "            drift_sum += (projected_particle_value - optimal_map) * unit_vector_samples[:, unit_vector_index].reshape((self.dimension, 1))\n",
    "\n",
    "        return -drift_sum / unit_sample_size\n",
    "\n",
    "\n",
    "    #Computation of projected particle samples\n",
    "    def projected_particle_samples(self, flow_vector, unit_vector_samples, unit_sample_size, N_particles):\n",
    "        \n",
    "        projected_particle_matrix = np.zeros((N_particles, unit_sample_size))\n",
    "        \n",
    "        for row_index, array_index in np.ndindex((N_particles, unit_sample_size)):\n",
    "            projected_particle_matrix[row_index, array_index] = np.inner(flow_vector[:, row_index], unit_vector_samples[:, array_index])\n",
    "        \n",
    "        return projected_particle_matrix\n",
    "\n",
    "\n",
    "    #Empirical version of quantile function for nearest neighborhood samples\n",
    "    def empirical_quantile(self, input_probability, projected_NN_samples, unit_vector_index):\n",
    "        \n",
    "        NN_sample_index = int(np.floor(input_probability * self.NN_parameter))\n",
    "        \n",
    "        if NN_sample_index >= self.NN_parameter - 1:\n",
    "            NN_sample_index = self.NN_parameter - 1\n",
    "\n",
    "        return projected_NN_samples[NN_sample_index, unit_vector_index]\n",
    "\n",
    "\n",
    "    #Empirical cumulative distribution function of projected particles\n",
    "    def empirical_cdf(self, input_value, projected_particle_samples, N_particles, unit_vector_index):\n",
    "        \n",
    "        N_samples = 0\n",
    "\n",
    "        for iter in range(N_particles):\n",
    "            if input_value >= projected_particle_samples[iter, unit_vector_index]:\n",
    "                N_samples += 1\n",
    "\n",
    "        return N_samples / N_particles \n",
    "\n"
   ]
  },
  {
   "cell_type": "code",
   "execution_count": 3,
   "metadata": {
    "colab": {
     "base_uri": "https://localhost:8080/",
     "height": 953
    },
    "id": "b7QuxkTLluzC",
    "outputId": "ca7fc822-b41c-4a47-88aa-d014e5fb7295"
   },
   "outputs": [
    {
     "data": {
      "image/png": "[encoded data removed]",
      "text/plain": [
       "<Figure size 640x480 with 1 Axes>"
      ]
     },
     "metadata": {},
     "output_type": "display_data"
    }
   ],
   "source": [
    "covariate_samples = np.load(os.getcwd() + \"\\\\covariate_samples\\\\discrete_covariate_samples_2_2000.npy\")\n",
    "coefficient_samples = np.load(os.getcwd() + \"\\\\coefficient_samples\\\\discrete_coefficient_samples_2_2000.npy\")\n",
    "dependent_samples = np.load(os.getcwd() + \"\\\\dependent_samples\\\\discrete_dependent_samples_2_2000.npy\")\n",
    "plt.plot(coefficient_samples[0,:], coefficient_samples[1,:], 'o')\n",
    "plt.xlim(-10, 10)\n",
    "plt.ylim(-10, 10)\n",
    "plt.show()"
   ]
  },
  {
   "cell_type": "code",
   "execution_count": 4,
   "metadata": {},
   "outputs": [
    {
     "name": "stdout",
     "output_type": "stream",
     "text": [
      "0\n",
      "10\n",
      "20\n",
      "30\n",
      "40\n",
      "50\n",
      "60\n",
      "70\n",
      "80\n",
      "90\n",
      "0.14764618873596191\n",
      "0.8696209319010856\n"
     ]
    },
    {
     "data": {
      "image/png": "[encoded data removed]",
      "text/plain": [
       "<Figure size 640x480 with 1 Axes>"
      ]
     },
     "metadata": {},
     "output_type": "display_data"
    }
   ],
   "source": [
    "dimension = 2\n",
    "radius = 10\n",
    "sample_size = 2000\n",
    "N_particles = 20\n",
    "estimator = generative_model(dimension, radius, covariate_samples, dependent_samples)\n",
    "\n",
    "algorithm_iteration = 100\n",
    "estimation_array = np.zeros((estimator.dimension * algorithm_iteration, N_particles))\n",
    "time_array = np.zeros(algorithm_iteration)\n",
    "distance_array = np.zeros(algorithm_iteration)\n",
    "\n",
    "iteration = 20\n",
    "unit_sample_size = 10\n",
    "step_size = 1\n",
    "reg_parameter = 0.01\n",
    "\n",
    "for iter in range(algorithm_iteration):\n",
    "    if iter % 10 == 0:\n",
    "        print(iter)\n",
    "    time_start = time.time()\n",
    "    estimation = estimator.generative_algorithm(iteration, unit_sample_size, N_particles, step_size, reg_parameter)\n",
    "    time_end = time.time()\n",
    "    duration = time_end - time_start\n",
    "    \n",
    "    estimation_array[estimator.dimension * iter : estimator.dimension * (iter + 1), : ] = estimation\n",
    "    time_array[iter] = duration\n",
    "    distance_array[iter] = ot.sliced.sliced_wasserstein_distance(estimation.T, coefficient_samples.T, n_projections= 100, p = 2)\n",
    "\n",
    "np.save(os.getcwd() + \"\\\\generative_samples_data\\\\generative_samples_discrete_2_2000_regularization_01\", estimation_array)\n",
    "np.save(os.getcwd() + \"\\\\generative_time_data\\\\generative_time_discrete_2_2000_regularization_01\", time_array)\n",
    "np.save(os.getcwd() + \"\\\\generative_distance_data\\\\generative_distance_discrete_2_2000_regularization_01\", distance_array)\n",
    "\n",
    "print(time_array[-1])\n",
    "print(distance_array[-1])\n",
    "plt.plot(estimation_array[-2, :], estimation_array[-1, :], 'o')\n",
    "plt.xlim(-10, 10)\n",
    "plt.ylim(-10, 10)\n",
    "plt.show()"
   ]
  },
  {
   "cell_type": "code",
   "execution_count": 5,
   "metadata": {},
   "outputs": [
    {
     "name": "stdout",
     "output_type": "stream",
     "text": [
      "0\n",
      "10\n",
      "20\n",
      "30\n",
      "40\n",
      "50\n",
      "60\n",
      "70\n",
      "80\n",
      "90\n",
      "0.1727607250213623\n",
      "0.9773006469088865\n"
     ]
    },
    {
     "data": {
      "image/png": "[encoded data removed]",
      "text/plain": [
       "<Figure size 640x480 with 1 Axes>"
      ]
     },
     "metadata": {},
     "output_type": "display_data"
    }
   ],
   "source": [
    "dimension = 2\n",
    "radius = 10\n",
    "sample_size = 2000\n",
    "N_particles = 20\n",
    "estimator = generative_model(dimension, radius, covariate_samples, dependent_samples)\n",
    "\n",
    "algorithm_iteration = 100\n",
    "estimation_array = np.zeros((estimator.dimension * algorithm_iteration, N_particles))\n",
    "time_array = np.zeros(algorithm_iteration)\n",
    "distance_array = np.zeros(algorithm_iteration)\n",
    "\n",
    "iteration = 20\n",
    "unit_sample_size = 10\n",
    "step_size = 1\n",
    "reg_parameter = 0.02\n",
    "\n",
    "for iter in range(algorithm_iteration):\n",
    "    if iter % 10 == 0:\n",
    "        print(iter)\n",
    "    time_start = time.time()\n",
    "    estimation = estimator.generative_algorithm(iteration, unit_sample_size, N_particles, step_size, reg_parameter)\n",
    "    time_end = time.time()\n",
    "    duration = time_end - time_start\n",
    "    \n",
    "    estimation_array[estimator.dimension * iter : estimator.dimension * (iter + 1), : ] = estimation\n",
    "    time_array[iter] = duration\n",
    "    distance_array[iter] = ot.sliced.sliced_wasserstein_distance(estimation.T, coefficient_samples.T, n_projections= 100, p = 2)\n",
    "\n",
    "np.save(os.getcwd() + \"\\\\generative_samples_data\\\\generative_samples_discrete_2_2000_regularization_02\", estimation_array)\n",
    "np.save(os.getcwd() + \"\\\\generative_time_data\\\\generative_time_discrete_2_2000_regularization_02\", time_array)\n",
    "np.save(os.getcwd() + \"\\\\generative_distance_data\\\\generative_distance_discrete_2_2000_regularization_02\", distance_array)\n",
    "\n",
    "print(time_array[-1])\n",
    "print(distance_array[-1])\n",
    "plt.plot(estimation_array[-2, :], estimation_array[-1, :], 'o')\n",
    "plt.xlim(-10, 10)\n",
    "plt.ylim(-10, 10)\n",
    "plt.show()"
   ]
  },
  {
   "cell_type": "code",
   "execution_count": 6,
   "metadata": {},
   "outputs": [
    {
     "name": "stdout",
     "output_type": "stream",
     "text": [
      "0\n",
      "10\n",
      "20\n",
      "30\n",
      "40\n",
      "50\n",
      "60\n",
      "70\n",
      "80\n",
      "90\n",
      "0.1476280689239502\n",
      "0.7150257715969572\n"
     ]
    },
    {
     "data": {
      "image/png": "[encoded data removed]",
      "text/plain": [
       "<Figure size 640x480 with 1 Axes>"
      ]
     },
     "metadata": {},
     "output_type": "display_data"
    }
   ],
   "source": [
    "dimension = 2\n",
    "radius = 10\n",
    "sample_size = 2000\n",
    "N_particles = 20\n",
    "estimator = generative_model(dimension, radius, covariate_samples, dependent_samples)\n",
    "\n",
    "algorithm_iteration = 100\n",
    "estimation_array = np.zeros((estimator.dimension * algorithm_iteration, N_particles))\n",
    "time_array = np.zeros(algorithm_iteration)\n",
    "distance_array = np.zeros(algorithm_iteration)\n",
    "\n",
    "iteration = 20\n",
    "unit_sample_size = 10\n",
    "step_size = 1\n",
    "reg_parameter = 0.04\n",
    "\n",
    "for iter in range(algorithm_iteration):\n",
    "    if iter % 10 == 0:\n",
    "        print(iter)\n",
    "    time_start = time.time()\n",
    "    estimation = estimator.generative_algorithm(iteration, unit_sample_size, N_particles, step_size, reg_parameter)\n",
    "    time_end = time.time()\n",
    "    duration = time_end - time_start\n",
    "    \n",
    "    estimation_array[estimator.dimension * iter : estimator.dimension * (iter + 1), : ] = estimation\n",
    "    time_array[iter] = duration\n",
    "    distance_array[iter] = ot.sliced.sliced_wasserstein_distance(estimation.T, coefficient_samples.T, n_projections= 100, p = 2)\n",
    "\n",
    "np.save(os.getcwd() + \"\\\\generative_samples_data\\\\generative_samples_discrete_2_2000_regularization_04\", estimation_array)\n",
    "np.save(os.getcwd() + \"\\\\generative_time_data\\\\generative_time_discrete_2_2000_regularization_04\", time_array)\n",
    "np.save(os.getcwd() + \"\\\\generative_distance_data\\\\generative_distance_discrete_2_2000_regularization_04\", distance_array)\n",
    "\n",
    "print(time_array[-1])\n",
    "print(distance_array[-1])\n",
    "plt.plot(estimation_array[-2, :], estimation_array[-1, :], 'o')\n",
    "plt.xlim(-10, 10)\n",
    "plt.ylim(-10, 10)\n",
    "plt.show()"
   ]
  },
  {
   "cell_type": "code",
   "execution_count": 7,
   "metadata": {},
   "outputs": [
    {
     "name": "stdout",
     "output_type": "stream",
     "text": [
      "0\n",
      "10\n",
      "20\n",
      "30\n",
      "40\n",
      "50\n",
      "60\n",
      "70\n",
      "80\n",
      "90\n",
      "0.13318514823913574\n",
      "0.9477738955639945\n"
     ]
    },
    {
     "data": {
      "image/png": "[encoded data removed]",
      "text/plain": [
       "<Figure size 640x480 with 1 Axes>"
      ]
     },
     "metadata": {},
     "output_type": "display_data"
    }
   ],
   "source": [
    "dimension = 2\n",
    "radius = 10\n",
    "sample_size = 2000\n",
    "N_particles = 20\n",
    "estimator = generative_model(dimension, radius, covariate_samples, dependent_samples)\n",
    "\n",
    "algorithm_iteration = 100\n",
    "estimation_array = np.zeros((estimator.dimension * algorithm_iteration, N_particles))\n",
    "time_array = np.zeros(algorithm_iteration)\n",
    "distance_array = np.zeros(algorithm_iteration)\n",
    "\n",
    "iteration = 20\n",
    "unit_sample_size = 10\n",
    "step_size = 1\n",
    "reg_parameter = 0.08\n",
    "\n",
    "for iter in range(algorithm_iteration):\n",
    "    if iter % 10 == 0:\n",
    "        print(iter)\n",
    "    time_start = time.time()\n",
    "    estimation = estimator.generative_algorithm(iteration, unit_sample_size, N_particles, step_size, reg_parameter)\n",
    "    time_end = time.time()\n",
    "    duration = time_end - time_start\n",
    "    \n",
    "    estimation_array[estimator.dimension * iter : estimator.dimension * (iter + 1), : ] = estimation\n",
    "    time_array[iter] = duration\n",
    "    distance_array[iter] = ot.sliced.sliced_wasserstein_distance(estimation.T, coefficient_samples.T, n_projections= 100, p = 2)\n",
    "\n",
    "np.save(os.getcwd() + \"\\\\generative_samples_data\\\\generative_samples_discrete_2_2000_regularization_08\", estimation_array)\n",
    "np.save(os.getcwd() + \"\\\\generative_time_data\\\\generative_time_discrete_2_2000_regularization_08\", time_array)\n",
    "np.save(os.getcwd() + \"\\\\generative_distance_data\\\\generative_distance_discrete_2_2000_regularization_08\", distance_array)\n",
    "\n",
    "print(time_array[-1])\n",
    "print(distance_array[-1])\n",
    "plt.plot(estimation_array[-2, :], estimation_array[-1, :], 'o')\n",
    "plt.xlim(-10, 10)\n",
    "plt.ylim(-10, 10)\n",
    "plt.show()"
   ]
  }
 ],
 "metadata": {
  "colab": {
   "provenance": []
  },
  "kernelspec": {
   "display_name": "Python 3",
   "language": "python",
   "name": "python3"
  },
  "language_info": {
   "codemirror_mode": {
    "name": "ipython",
    "version": 3
   },
   "file_extension": ".py",
   "mimetype": "text/x-python",
   "name": "python",
   "nbconvert_exporter": "python",
   "pygments_lexer": "ipython3",
   "version": "3.11.9"
  }
 },
 "nbformat": 4,
 "nbformat_minor": 4
}
