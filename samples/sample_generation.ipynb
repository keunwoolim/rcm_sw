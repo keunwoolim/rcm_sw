{
 "cells": [
  {
   "cell_type": "code",
   "execution_count": 8,
   "metadata": {
    "id": "VnxVqr_cluy_"
   },
   "outputs": [],
   "source": [
    "import numpy as np\n",
    "from scipy.stats import vonmises_fisher, uniform_direction\n",
    "import itertools"
   ]
  },
  {
   "cell_type": "code",
   "execution_count": 9,
   "metadata": {
    "id": "L5RIw3QfluzA"
   },
   "outputs": [],
   "source": [
    "class background_functions:\n",
    "\n",
    "    def __init__(self, dimension, radius):\n",
    "\n",
    "        self.dimension = dimension\n",
    "        self.radius = radius\n",
    "\n",
    "\n",
    "    #Generation of random coefficients model samples\n",
    "    def random_coefficients_generation(self, coefficients_type, sample_size):\n",
    "\n",
    "        covariate_mean = np.ones(self.dimension).reshape(self.dimension) / np.sqrt(self.dimension)\n",
    "        covariate_samples = vonmises_fisher.rvs(mu = covariate_mean, kappa = 0.1, size = sample_size).T\n",
    "\n",
    "        if coefficients_type == \"spherical\":\n",
    "            coefficients_samples = uniform_direction.rvs(dim = self.dimension, size = sample_size).T  * self.radius / 4\n",
    "            coefficients_samples = coefficients_samples @ (np.diag(np.random.uniform(size = sample_size) ** (1 / self.dimension)))\n",
    "            for iter in range(sample_size):\n",
    "              binomial_sample = np.random.binomial(1, 0.5, 1)[0]\n",
    "              if binomial_sample == 0:\n",
    "                coefficients_samples[:, iter] += np.eye(1, self.dimension, 1).reshape(self.dimension) * self.radius / 2\n",
    "              else:\n",
    "                coefficients_samples[:, iter] -= np.eye(1, self.dimension, 1).reshape(self.dimension) * self.radius / 2\n",
    "\n",
    "        elif coefficients_type == \"degenerate\":\n",
    "            coefficients_samples = uniform_direction.rvs(dim = self.dimension, size = sample_size).T  * self.radius / 4\n",
    "            for iter in range(sample_size):\n",
    "              binomial_sample = np.random.binomial(1, 0.5, 1)[0]\n",
    "              if binomial_sample == 0:\n",
    "                coefficients_samples[:, iter] += np.eye(1, self.dimension, 1).reshape(self.dimension) * self.radius / 2\n",
    "              else:\n",
    "                coefficients_samples[:, iter] -= np.eye(1, self.dimension, 1).reshape(self.dimension) * self.radius / 2\n",
    "\n",
    "        elif coefficients_type == \"discrete\":\n",
    "            mass_sample_size = 2 * self.dimension\n",
    "            mass_sample = list(np.concatenate((np.identity(self.dimension), -np.identity(self.dimension)), axis = 1).T * self.radius / 2)\n",
    "            mass_index = np.arange(mass_sample_size)\n",
    "            mass_weight = np.ones(mass_sample_size) / mass_sample_size\n",
    "            index_samples = np.random.choice(mass_index, size = sample_size, p = mass_weight)\n",
    "            coefficients_samples = np.array([mass_sample[index] for index in index_samples]).T\n",
    "\n",
    "        dependent_samples = np.diag(covariate_samples.T @ coefficients_samples)\n",
    "\n",
    "        return covariate_samples, coefficients_samples, dependent_samples"
   ]
  },
  {
   "cell_type": "code",
   "execution_count": 10,
   "metadata": {},
   "outputs": [],
   "source": [
    "for dimension in range(2, 3):\n",
    "    function = background_functions(dimension, 10)\n",
    "    for (sample_style, sample_size) in itertools.product([\"spherical\", \"degenerate\", \"discrete\"], [500, 1000, 1500, 2000]):\n",
    "        covariate_samples, coefficient_samples, dependent_samples = function.random_coefficients_generation(sample_style, sample_size)\n",
    "        np.save(sample_style + \"_covariate_samples_\" + str(dimension) + \"_\" + str(sample_size), covariate_samples)\n",
    "        np.save(sample_style + \"_coefficient_samples_\" + str(dimension) + \"_\" + str(sample_size), coefficient_samples)\n",
    "        np.save(sample_style + \"_dependent_samples_\" + str(dimension) + \"_\" + str(sample_size), dependent_samples)"
   ]
  },
  {
   "cell_type": "code",
   "execution_count": 11,
   "metadata": {},
   "outputs": [],
   "source": [
    "for dimension in range(3, 6):\n",
    "    function = background_functions(dimension, 10)\n",
    "    for (sample_style, sample_size) in itertools.product([\"spherical\"], [500]):\n",
    "        covariate_samples, coefficient_samples, dependent_samples = function.random_coefficients_generation(sample_style, sample_size)\n",
    "        np.save(sample_style + \"_covariate_samples_\" + str(dimension) + \"_\" + str(sample_size), covariate_samples)\n",
    "        np.save(sample_style + \"_coefficient_samples_\" + str(dimension) + \"_\" + str(sample_size), coefficient_samples)\n",
    "        np.save(sample_style + \"_dependent_samples_\" + str(dimension) + \"_\" + str(sample_size), dependent_samples)"
   ]
  }
 ],
 "metadata": {
  "colab": {
   "provenance": []
  },
  "kernelspec": {
   "display_name": "Python 3",
   "name": "python3"
  },
  "language_info": {
   "codemirror_mode": {
    "name": "ipython",
    "version": 3
   },
   "file_extension": ".py",
   "mimetype": "text/x-python",
   "name": "python",
   "nbconvert_exporter": "python",
   "pygments_lexer": "ipython3",
   "version": "3.11.9"
  }
 },
 "nbformat": 4,
 "nbformat_minor": 0
}
